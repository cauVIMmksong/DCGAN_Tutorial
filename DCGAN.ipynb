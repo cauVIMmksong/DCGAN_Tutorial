{
 "cells": [
  {
   "cell_type": "code",
   "execution_count": 1,
   "metadata": {},
   "outputs": [
    {
     "name": "stdout",
     "output_type": "stream",
     "text": [
      "Random Seed:  999\n"
     ]
    },
    {
     "data": {
      "text/plain": [
       "<torch._C.Generator at 0x1dc02825430>"
      ]
     },
     "execution_count": 1,
     "metadata": {},
     "output_type": "execute_result"
    }
   ],
   "source": [
    "from __future__ import print_function\n",
    "#%matplotlib inline\n",
    "import argparse\n",
    "import os\n",
    "import random\n",
    "import torch\n",
    "import torch.nn as nn\n",
    "import torch.nn.parallel\n",
    "import torch.backends.cudnn as cudnn\n",
    "import torch.optim as optim\n",
    "import torch.utils.data\n",
    "import torchvision.datasets as dset\n",
    "import torchvision.transforms as transforms\n",
    "import torchvision.utils as vutils\n",
    "import numpy as np\n",
    "import matplotlib.pyplot as plt\n",
    "import matplotlib.animation as animation\n",
    "from IPython.display import HTML\n",
    "\n",
    "# 코드 실행결과의 동일성을 위해 무작위 시드를 설정합니다\n",
    "manualSeed = 999\n",
    "#manualSeed = random.randint(1, 10000) # 만일 새로운 결과를 원한다면 주석을 없애면 됩니다\n",
    "print(\"Random Seed: \", manualSeed)\n",
    "random.seed(manualSeed)\n",
    "torch.manual_seed(manualSeed)"
   ]
  },
  {
   "cell_type": "code",
   "execution_count": 2,
   "metadata": {},
   "outputs": [],
   "source": [
    "# 데이터셋의 경로\n",
    "dataroot = \"data/celeba\"\n",
    "\n",
    "# dataloader에서 사용할 쓰레드 수\n",
    "workers = 2\n",
    "\n",
    "# 배치 크기\n",
    "batch_size = 128\n",
    "\n",
    "# 이미지의 크기입니다. 모든 이미지들은 transformer를 이용해 64로 크기가 통일됩니다.\n",
    "image_size = 64\n",
    "\n",
    "# 이미지의 채널 수로, RGB 이미지이기 때문에 3으로 설정합니다.\n",
    "nc = 3\n",
    "\n",
    "# 잠재공간 벡터의 크기 (예. 생성자의 입력값 크기)\n",
    "nz = 100\n",
    "\n",
    "# 생성자를 통과하는 특징 데이터들의 채널 크기\n",
    "ngf = 64\n",
    "\n",
    "# 구분자를 통과하는 특징 데이터들의 채널 크기\n",
    "ndf = 64\n",
    "\n",
    "# 학습할 에폭 수\n",
    "num_epochs = 5\n",
    "\n",
    "# 옵티마이저의 학습률\n",
    "lr = 0.0002\n",
    "\n",
    "# Adam 옵티마이저의 beta1 하이퍼파라미터\n",
    "beta1 = 0.5\n",
    "\n",
    "# 사용가능한 gpu 번호. CPU를 사용해야 하는경우 0으로 설정하세요\n",
    "ngpu = 1"
   ]
  }
 ],
 "metadata": {
  "kernelspec": {
   "display_name": "Python 3.8.13 ('GAN')",
   "language": "python",
   "name": "python3"
  },
  "language_info": {
   "codemirror_mode": {
    "name": "ipython",
    "version": 3
   },
   "file_extension": ".py",
   "mimetype": "text/x-python",
   "name": "python",
   "nbconvert_exporter": "python",
   "pygments_lexer": "ipython3",
   "version": "3.8.13"
  },
  "orig_nbformat": 4,
  "vscode": {
   "interpreter": {
    "hash": "27188a68af24359f716f42331a05ac5c5dd63b6f781f49d2f8f4a4081f86e482"
   }
  }
 },
 "nbformat": 4,
 "nbformat_minor": 2
}
